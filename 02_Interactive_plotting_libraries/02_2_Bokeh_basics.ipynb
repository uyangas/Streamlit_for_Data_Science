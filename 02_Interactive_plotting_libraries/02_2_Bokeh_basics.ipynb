{
 "cells": [
  {
   "cell_type": "markdown",
   "metadata": {},
   "source": [
    "# `bokeh` санг ашиглан график байгуулах нь"
   ]
  },
  {
   "cell_type": "markdown",
   "metadata": {},
   "source": [
    "`bokeh`-той холбоотой дэлгэрэнгүй мэдээллийг: https://docs.bokeh.org/en/latest/index.html\n",
    "\n",
    "`bokeh` tools-н тухай дэлгэрэнгүй мэдээллийг: https://docs.bokeh.org/en/2.4.3/docs/user_guide/tools.html \n",
    "\n",
    "`Tutorial` хэсгээс дэлгэрэнгүй функцуудыг харах"
   ]
  },
  {
   "cell_type": "code",
   "execution_count": null,
   "metadata": {},
   "outputs": [],
   "source": [
    "# !pip install bokeh"
   ]
  },
  {
   "cell_type": "code",
   "execution_count": 2,
   "metadata": {},
   "outputs": [
    {
     "data": {
      "text/html": [
       "<div>\n",
       "<style scoped>\n",
       "    .dataframe tbody tr th:only-of-type {\n",
       "        vertical-align: middle;\n",
       "    }\n",
       "\n",
       "    .dataframe tbody tr th {\n",
       "        vertical-align: top;\n",
       "    }\n",
       "\n",
       "    .dataframe thead th {\n",
       "        text-align: right;\n",
       "    }\n",
       "</style>\n",
       "<table border=\"1\" class=\"dataframe\">\n",
       "  <thead>\n",
       "    <tr style=\"text-align: right;\">\n",
       "      <th></th>\n",
       "      <th>x</th>\n",
       "      <th>y</th>\n",
       "      <th>category</th>\n",
       "    </tr>\n",
       "  </thead>\n",
       "  <tbody>\n",
       "    <tr>\n",
       "      <th>0</th>\n",
       "      <td>1</td>\n",
       "      <td>10</td>\n",
       "      <td>A</td>\n",
       "    </tr>\n",
       "    <tr>\n",
       "      <th>1</th>\n",
       "      <td>2</td>\n",
       "      <td>15</td>\n",
       "      <td>B</td>\n",
       "    </tr>\n",
       "    <tr>\n",
       "      <th>2</th>\n",
       "      <td>3</td>\n",
       "      <td>13</td>\n",
       "      <td>A</td>\n",
       "    </tr>\n",
       "    <tr>\n",
       "      <th>3</th>\n",
       "      <td>4</td>\n",
       "      <td>18</td>\n",
       "      <td>B</td>\n",
       "    </tr>\n",
       "    <tr>\n",
       "      <th>4</th>\n",
       "      <td>5</td>\n",
       "      <td>16</td>\n",
       "      <td>A</td>\n",
       "    </tr>\n",
       "  </tbody>\n",
       "</table>\n",
       "</div>"
      ],
      "text/plain": [
       "   x   y category\n",
       "0  1  10        A\n",
       "1  2  15        B\n",
       "2  3  13        A\n",
       "3  4  18        B\n",
       "4  5  16        A"
      ]
     },
     "execution_count": 2,
     "metadata": {},
     "output_type": "execute_result"
    }
   ],
   "source": [
    "import pandas as pd\n",
    "\n",
    "df = pd.DataFrame({\n",
    "    'x': [1, 2, 3, 4, 5],\n",
    "    'y': [10, 15, 13, 18, 16],\n",
    "    'category': ['A', 'B', 'A', 'B', 'A']\n",
    "})\n",
    "df"
   ]
  },
  {
   "cell_type": "markdown",
   "metadata": {},
   "source": [
    "## `bokeh` график байгуулах"
   ]
  },
  {
   "cell_type": "code",
   "execution_count": 11,
   "metadata": {},
   "outputs": [],
   "source": [
    "from bokeh.plotting import figure, show\n",
    "from bokeh.layouts import gridplot"
   ]
  },
  {
   "cell_type": "markdown",
   "metadata": {},
   "source": [
    "График байгуулах"
   ]
  },
  {
   "cell_type": "code",
   "execution_count": 7,
   "metadata": {},
   "outputs": [],
   "source": [
    "p1 = figure(\n",
    "    height=300,\n",
    "    width=600,\n",
    "    title=\"Test dataset\",\n",
    ")\n",
    "\n",
    "x = df[\"x\"]  \n",
    "y = df[\"y\"]  \n",
    "\n",
    "p1.line(\n",
    "    x,\n",
    "    y,\n",
    "    legend_label=\"X\",\n",
    "    line_width=3,\n",
    "    line_color=\"blue\",\n",
    ")\n",
    "\n",
    "show(p1)"
   ]
  },
  {
   "cell_type": "markdown",
   "metadata": {},
   "source": [
    "Нэг график дээр олон төрлийн chart нэмэх"
   ]
  },
  {
   "cell_type": "code",
   "execution_count": 10,
   "metadata": {},
   "outputs": [],
   "source": [
    "p1.scatter(x, y, size=15, color='red', marker=\"circle_dot\")\n",
    "\n",
    "show(p1)"
   ]
  },
  {
   "cell_type": "markdown",
   "metadata": {},
   "source": [
    "## Subplot байдлаар харуулах"
   ]
  },
  {
   "cell_type": "code",
   "execution_count": 17,
   "metadata": {},
   "outputs": [],
   "source": [
    "p1 = figure(\n",
    "    height=300,\n",
    "    width=600,\n",
    "    title=\"Test dataset\",\n",
    ")\n",
    "\n",
    "x = df[\"x\"]  \n",
    "y = df[\"y\"]  \n",
    "\n",
    "p1.line(\n",
    "    x,\n",
    "    y,\n",
    "    legend_label=\"X\",\n",
    "    line_width=3,\n",
    "    line_color=\"blue\",\n",
    ")\n",
    "\n",
    "p2 = figure(width=400, height=200)\n",
    "\n",
    "p2.scatter(x, y, size=15, color='red', marker=\"circle_dot\")\n",
    "\n",
    "grid = gridplot([[p1, p2]])\n",
    "show(grid)\n",
    "# show(p2)"
   ]
  },
  {
   "cell_type": "markdown",
   "metadata": {},
   "source": [
    "The end of the notebook"
   ]
  }
 ],
 "metadata": {
  "kernelspec": {
   "display_name": "slapp",
   "language": "python",
   "name": "python3"
  },
  "language_info": {
   "codemirror_mode": {
    "name": "ipython",
    "version": 3
   },
   "file_extension": ".py",
   "mimetype": "text/x-python",
   "name": "python",
   "nbconvert_exporter": "python",
   "pygments_lexer": "ipython3",
   "version": "3.10.13"
  }
 },
 "nbformat": 4,
 "nbformat_minor": 2
}
